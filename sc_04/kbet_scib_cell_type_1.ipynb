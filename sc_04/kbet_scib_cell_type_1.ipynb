{
 "cells": [
  {
   "cell_type": "markdown",
   "id": "f1cfeb83",
   "metadata": {},
   "source": [
    "### scib kbet for sc_04 cell type 1\n",
    "- run with metric-dev"
   ]
  },
  {
   "cell_type": "code",
   "execution_count": 1,
   "id": "97e16479",
   "metadata": {},
   "outputs": [],
   "source": [
    "import os\n",
    "import sys\n",
    "import numpy as np\n",
    "import pandas as pd\n",
    "import scanpy as sc\n",
    "import scipy\n",
    "import rpy2.robjects as ro\n",
    "import scib\n",
    "import anndata2ri\n",
    "import rpy2\n",
    "from collections import Counter"
   ]
  },
  {
   "cell_type": "code",
   "execution_count": 2,
   "id": "a31293c1",
   "metadata": {},
   "outputs": [],
   "source": [
    "# Add the parent directory to sys.path\n",
    "sys.path.append(os.path.abspath('../..'))"
   ]
  },
  {
   "cell_type": "code",
   "execution_count": 3,
   "id": "c1d17dd3",
   "metadata": {},
   "outputs": [],
   "source": [
    "from kbet_exceptions import OptionalDependencyNotInstalled, RLibraryNotFound\n",
    "from kbet_utils import NeighborsError, diffusion_nn"
   ]
  },
  {
   "cell_type": "code",
   "execution_count": 4,
   "id": "60cb013b",
   "metadata": {},
   "outputs": [],
   "source": [
    "def kBET_single_with_plot(matrix, batch, k0=10, knn=None, verbose=True, scenario=None, sc_dir=None):\n",
    "    \"\"\"\n",
    "    Single run of kBET\n",
    "    \n",
    "    Parameters\n",
    "    ----------\n",
    "    matrix : zero matrix\n",
    "        np zero matrix (cells x k0+1 features)\n",
    "    batch : list-like\n",
    "        batch labels\n",
    "    k0 : int, optional\n",
    "        number of nearest neighbors, by default 10\n",
    "    knn : array-like, optional\n",
    "        precomputed knn indices for each cell, by default None\n",
    "    verbose : bool, optional\n",
    "        whether to print progress, by default True\n",
    "    scenario : str\n",
    "        name of the scenario\n",
    "    sc_dir : str\n",
    "        directory to save plots\n",
    "\n",
    "    Returns\n",
    "    -------\n",
    "    float\n",
    "        kBET score (i.e. observed rejection rate)\n",
    "    \"\"\"\n",
    "\n",
    "    ro.r.source('kbet_with_plot.R')\n",
    "\n",
    "    # activate automatic conversion between anndata and R\n",
    "    anndata2ri.activate()\n",
    "\n",
    "    ro.globalenv[\"data_mtrx\"] = matrix\n",
    "    ro.globalenv[\"batch\"] = batch\n",
    "\n",
    "    ro.globalenv[\"knn_graph\"] = knn\n",
    "    ro.globalenv[\"k0\"] = k0\n",
    "    ro.globalenv[\"scenario\"] = scenario\n",
    "    ro.globalenv[\"sc_dir\"] = sc_dir\n",
    "    \n",
    "    ro.r(\n",
    "        \"batch.estimate <- kBET(\"\n",
    "        \"  data_mtrx,\"\n",
    "        \"  batch,\"\n",
    "        \"  knn=knn_graph,\"\n",
    "        \"  k0=k0,\"\n",
    "        \"  scenario=scenario,\"\n",
    "        f\"  sc_dir='{sc_dir}'\"\n",
    "        \")\"\n",
    "    )\n",
    "\n",
    "    try:\n",
    "        score = ro.r(\"batch.estimate$summary$kBET.observed\")[0]\n",
    "    except rpy2.rinterface_lib.embedded.RRuntimeError as ex:\n",
    "        print(f\"Error computing kBET: {ex}\\nSetting value to np.nan\")\n",
    "        score = np.nan\n",
    "\n",
    "    anndata2ri.deactivate()\n",
    "\n",
    "    return score"
   ]
  },
  {
   "cell_type": "code",
   "execution_count": 5,
   "id": "b90fda78",
   "metadata": {},
   "outputs": [],
   "source": [
    "def kBET_single(matrix, batch, k0=10, knn=None, verbose=True):\n",
    "    \"\"\"\n",
    "    Single run of kBET\n",
    "    \n",
    "    Parameters\n",
    "    ----------\n",
    "    matrix : zero matrix\n",
    "        np zero matrix (cells x k0+1 features)\n",
    "    batch : list-like\n",
    "        batch labels\n",
    "    k0 : int, optional\n",
    "        number of nearest neighbors, by default 10\n",
    "    knn : array-like, optional\n",
    "        precomputed knn indices for each cell, by default None\n",
    "    verbose : bool, optional\n",
    "        whether to print progress, by default True\n",
    "    \n",
    "    Returns\n",
    "    -------\n",
    "    float\n",
    "        kBET score (i.e. observed rejection rate)\n",
    "    \"\"\"\n",
    "\n",
    "    try:\n",
    "        ro.r(\"library(kBET)\")\n",
    "    except rpy2.rinterface_lib.embedded.RRuntimeError as ex:\n",
    "        RLibraryNotFound(ex)\n",
    "\n",
    "    # activate automatic conversion between anndata and R\n",
    "    anndata2ri.activate()\n",
    "\n",
    "    # if verbose:\n",
    "    #    print(\"importing expression matrix\")\n",
    "\n",
    "    ro.globalenv[\"data_mtrx\"] = matrix\n",
    "    ro.globalenv[\"batch\"] = batch\n",
    "\n",
    "    # if verbose:\n",
    "    #    print(\"kBET estimation\")\n",
    "\n",
    "    ro.globalenv[\"knn_graph\"] = knn\n",
    "    ro.globalenv[\"k0\"] = k0\n",
    "    \n",
    "    ro.r(\n",
    "        \"batch.estimate <- kBET(\"\n",
    "        \"  data_mtrx,\"\n",
    "        \"  batch,\"\n",
    "        \"  knn=knn_graph,\"\n",
    "        \"  k0=k0,\"\n",
    "        \"  plot=FALSE,\"\n",
    "        \"  do.pca=FALSE,\"\n",
    "        \"  heuristic=FALSE,\"\n",
    "        \"  adapt=FALSE,\"\n",
    "        f\"  verbose={str(verbose).upper()}\"\n",
    "        \")\"\n",
    "    )\n",
    "\n",
    "    try:\n",
    "        score = ro.r(\"batch.estimate$summary$kBET.observed\")[0]\n",
    "    except rpy2.rinterface_lib.embedded.RRuntimeError as ex:\n",
    "        print(f\"Error computing kBET: {ex}\\nSetting value to np.nan\")\n",
    "        score = np.nan\n",
    "\n",
    "    anndata2ri.deactivate()\n",
    "\n",
    "    return score\n"
   ]
  },
  {
   "cell_type": "code",
   "execution_count": 6,
   "id": "fc92629b",
   "metadata": {},
   "outputs": [
    {
     "data": {
      "text/plain": [
       "'2025-10-28_sc_04.h5ad'"
      ]
     },
     "execution_count": 6,
     "metadata": {},
     "output_type": "execute_result"
    }
   ],
   "source": [
    "scenario = \"2025-10-28_sc_04.h5ad\"\n",
    "\n",
    "scenario"
   ]
  },
  {
   "cell_type": "code",
   "execution_count": 7,
   "id": "e66dc18d",
   "metadata": {},
   "outputs": [
    {
     "data": {
      "text/plain": [
       "AnnData object with n_obs × n_vars = 1800 × 2000\n",
       "    obs: 'cell_id', 'batch', 'cell_type'"
      ]
     },
     "execution_count": 7,
     "metadata": {},
     "output_type": "execute_result"
    }
   ],
   "source": [
    "adata = sc.read_h5ad(f\"../../scenarios/{scenario}\")\n",
    "\n",
    "adata"
   ]
  },
  {
   "cell_type": "code",
   "execution_count": 8,
   "id": "38522002",
   "metadata": {},
   "outputs": [
    {
     "name": "stdout",
     "output_type": "stream",
     "text": [
      "Reducing data...\n",
      "HVG\n",
      "Using 2000 HVGs from full intersect set\n",
      "Using 0 HVGs from n_batch-1 set\n",
      "Using 2000 HVGs\n",
      "Computed 2000 highly variable genes\n",
      "PCA\n"
     ]
    },
    {
     "name": "stderr",
     "output_type": "stream",
     "text": [
      "/home/mekan/anaconda3/envs/metric-dev/lib/python3.11/site-packages/scib/preprocessing.py:616: DeprecationWarning: `in1d` is deprecated. Use `np.isin` instead.\n",
      "  adata.var[\"highly_variable\"] = np.in1d(adata.var_names, hvg_list)\n",
      "/home/mekan/anaconda3/envs/metric-dev/lib/python3.11/site-packages/scanpy/preprocessing/_pca/__init__.py:439: FutureWarning: Argument `use_highly_variable` is deprecated, consider using the mask argument. Use_highly_variable=True can be called through mask_var=\"highly_variable\". Use_highly_variable=False can be called through mask_var=None\n",
      "  warn(msg, FutureWarning)\n"
     ]
    },
    {
     "name": "stdout",
     "output_type": "stream",
     "text": [
      "Nearest Neigbours\n"
     ]
    },
    {
     "name": "stderr",
     "output_type": "stream",
     "text": [
      "/home/mekan/anaconda3/envs/metric-dev/lib/python3.11/site-packages/tqdm/auto.py:21: TqdmWarning: IProgress not found. Please update jupyter and ipywidgets. See https://ipywidgets.readthedocs.io/en/stable/user_install.html\n",
      "  from .autonotebook import tqdm as notebook_tqdm\n"
     ]
    },
    {
     "name": "stdout",
     "output_type": "stream",
     "text": [
      "UMAP\n"
     ]
    },
    {
     "name": "stderr",
     "output_type": "stream",
     "text": [
      "/home/mekan/anaconda3/envs/metric-dev/lib/python3.11/site-packages/sklearn/manifold/_spectral_embedding.py:329: UserWarning: Graph is not fully connected, spectral embedding may not work as expected.\n",
      "  warnings.warn(\n"
     ]
    },
    {
     "data": {
      "text/plain": [
       "AnnData object with n_obs × n_vars = 1800 × 2000\n",
       "    obs: 'cell_id', 'batch', 'cell_type'\n",
       "    var: 'highly_variable'\n",
       "    uns: 'pca', 'neighbors', 'umap'\n",
       "    obsm: 'X_pca', 'X_umap'\n",
       "    varm: 'PCs'\n",
       "    obsp: 'distances', 'connectivities'"
      ]
     },
     "execution_count": 8,
     "metadata": {},
     "output_type": "execute_result"
    }
   ],
   "source": [
    "print(\"Reducing data...\")\n",
    "scib.preprocessing.reduce_data(adata, batch_key=\"batch\", umap=True)\n",
    "\n",
    "adata"
   ]
  },
  {
   "cell_type": "code",
   "execution_count": 9,
   "id": "12c46926",
   "metadata": {},
   "outputs": [
    {
     "data": {
      "text/plain": [
       "AnnData object with n_obs × n_vars = 1800 × 2000\n",
       "    obs: 'cell_id', 'batch', 'cell_type'\n",
       "    var: 'highly_variable'\n",
       "    uns: 'pca', 'neighbors', 'umap'\n",
       "    obsm: 'X_pca', 'X_umap'\n",
       "    varm: 'PCs'\n",
       "    obsp: 'distances', 'connectivities'"
      ]
     },
     "execution_count": 9,
     "metadata": {},
     "output_type": "execute_result"
    }
   ],
   "source": [
    "# keep only HVGs\n",
    "adata = adata[:, adata.var[\"highly_variable\"]].copy()\n",
    "\n",
    "adata"
   ]
  },
  {
   "cell_type": "code",
   "execution_count": 10,
   "id": "08ef448a",
   "metadata": {},
   "outputs": [
    {
     "data": {
      "text/plain": [
       "{'connectivities_key': 'connectivities',\n",
       " 'distances_key': 'distances',\n",
       " 'params': {'n_neighbors': 15,\n",
       "  'method': 'umap',\n",
       "  'random_state': 0,\n",
       "  'metric': 'euclidean',\n",
       "  'use_rep': 'X_pca'}}"
      ]
     },
     "execution_count": 10,
     "metadata": {},
     "output_type": "execute_result"
    }
   ],
   "source": [
    "adata.uns[\"neighbors\"]"
   ]
  },
  {
   "cell_type": "code",
   "execution_count": 11,
   "id": "c65114dd",
   "metadata": {},
   "outputs": [],
   "source": [
    "batch_key = \"batch\"\n",
    "label_key = \"cell_type\"\n",
    "type_ = \"full\"\n",
    "embed = \"X_pca\"\n",
    "scaled = True\n",
    "return_df = True\n",
    "verbose = True"
   ]
  },
  {
   "cell_type": "code",
   "execution_count": 12,
   "id": "af0821d8",
   "metadata": {},
   "outputs": [
    {
     "data": {
      "text/plain": [
       "AnnData object with n_obs × n_vars = 1800 × 2000\n",
       "    obs: 'cell_id', 'batch', 'cell_type'\n",
       "    var: 'highly_variable'\n",
       "    uns: 'pca', 'neighbors', 'umap'\n",
       "    obsm: 'X_pca', 'X_umap'\n",
       "    varm: 'PCs'\n",
       "    obsp: 'distances', 'connectivities'"
      ]
     },
     "execution_count": 12,
     "metadata": {},
     "output_type": "execute_result"
    }
   ],
   "source": [
    "# compute connectivities for non-knn type data integrations\n",
    "if type_ != \"knn\" and embed is not None:\n",
    "    # compute nearest neighbors distance matrix and a neighborhood graph of cells\n",
    "    # 50 neighbors for each cell\n",
    "    adata_tmp = sc.pp.neighbors(adata, n_neighbors=50, use_rep=embed, copy=True)\n",
    "\n",
    "adata_tmp"
   ]
  },
  {
   "cell_type": "code",
   "execution_count": 13,
   "id": "9a20f0de",
   "metadata": {},
   "outputs": [
    {
     "data": {
      "text/plain": [
       "{'connectivities_key': 'connectivities',\n",
       " 'distances_key': 'distances',\n",
       " 'params': {'n_neighbors': 50,\n",
       "  'method': 'umap',\n",
       "  'random_state': 0,\n",
       "  'metric': 'euclidean',\n",
       "  'use_rep': 'X_pca'}}"
      ]
     },
     "execution_count": 13,
     "metadata": {},
     "output_type": "execute_result"
    }
   ],
   "source": [
    "adata_tmp.uns[\"neighbors\"]"
   ]
  },
  {
   "cell_type": "code",
   "execution_count": 14,
   "id": "11e7c11f",
   "metadata": {},
   "outputs": [
    {
     "name": "stdout",
     "output_type": "stream",
     "text": [
      "batch: batch\n"
     ]
    }
   ],
   "source": [
    "if verbose:\n",
    "    print(f\"batch: {batch_key}\")"
   ]
  },
  {
   "cell_type": "code",
   "execution_count": 15,
   "id": "d2850305",
   "metadata": {},
   "outputs": [
    {
     "data": {
      "text/plain": [
       "2147483647"
      ]
     },
     "execution_count": 15,
     "metadata": {},
     "output_type": "execute_result"
    }
   ],
   "source": [
    "# set upper bound for k0\n",
    "size_max = 2**31 - 1\n",
    "size_max"
   ]
  },
  {
   "cell_type": "code",
   "execution_count": 16,
   "id": "4127eb52",
   "metadata": {},
   "outputs": [],
   "source": [
    "# check if neighborhood size too small or only one batch in cell type"
   ]
  },
  {
   "cell_type": "code",
   "execution_count": 17,
   "id": "df11539b",
   "metadata": {},
   "outputs": [
    {
     "name": "stderr",
     "output_type": "stream",
     "text": [
      "/tmp/ipykernel_214025/2412565206.py:2: FutureWarning: The default of observed=False is deprecated and will be changed to True in a future version of pandas. Pass observed=False to retain current behavior or observed=True to adopt the future default and silence this warning.\n",
      "  counts = adata_tmp.obs.groupby(label_key).agg(\n"
     ]
    },
    {
     "data": {
      "text/html": [
       "<div>\n",
       "<style scoped>\n",
       "    .dataframe tbody tr th:only-of-type {\n",
       "        vertical-align: middle;\n",
       "    }\n",
       "\n",
       "    .dataframe tbody tr th {\n",
       "        vertical-align: top;\n",
       "    }\n",
       "\n",
       "    .dataframe thead th {\n",
       "        text-align: right;\n",
       "    }\n",
       "</style>\n",
       "<table border=\"1\" class=\"dataframe\">\n",
       "  <thead>\n",
       "    <tr style=\"text-align: right;\">\n",
       "      <th></th>\n",
       "      <th>cell_type</th>\n",
       "      <th>batch</th>\n",
       "    </tr>\n",
       "    <tr>\n",
       "      <th>cell_type</th>\n",
       "      <th></th>\n",
       "      <th></th>\n",
       "    </tr>\n",
       "  </thead>\n",
       "  <tbody>\n",
       "    <tr>\n",
       "      <th>cell type 1</th>\n",
       "      <td>600</td>\n",
       "      <td>2</td>\n",
       "    </tr>\n",
       "    <tr>\n",
       "      <th>cell type 2</th>\n",
       "      <td>600</td>\n",
       "      <td>2</td>\n",
       "    </tr>\n",
       "    <tr>\n",
       "      <th>cell type 3</th>\n",
       "      <td>600</td>\n",
       "      <td>2</td>\n",
       "    </tr>\n",
       "  </tbody>\n",
       "</table>\n",
       "</div>"
      ],
      "text/plain": [
       "             cell_type  batch\n",
       "cell_type                    \n",
       "cell type 1        600      2\n",
       "cell type 2        600      2\n",
       "cell type 3        600      2"
      ]
     },
     "execution_count": 17,
     "metadata": {},
     "output_type": "execute_result"
    }
   ],
   "source": [
    "# counts: # cells in cell type and # batches in cell type\n",
    "counts = adata_tmp.obs.groupby(label_key).agg(\n",
    "    {\n",
    "        label_key: \"count\",\n",
    "        batch_key: \"nunique\"\n",
    "    }\n",
    ")\n",
    "counts"
   ]
  },
  {
   "cell_type": "code",
   "execution_count": 18,
   "id": "9bddfbb0",
   "metadata": {},
   "outputs": [
    {
     "data": {
      "text/plain": [
       "CategoricalIndex(['cell type 1', 'cell type 2', 'cell type 3'], categories=['cell type 1', 'cell type 2', 'cell type 3'], ordered=False, dtype='category', name='cell_type')"
      ]
     },
     "execution_count": 18,
     "metadata": {},
     "output_type": "execute_result"
    }
   ],
   "source": [
    "# labels: cell types with at least 2 batches and at least 10 cells (we will run kBET on these)\n",
    "labels = counts.query(f\"{label_key}>=10 and {batch_key} > 1\").index\n",
    "labels"
   ]
  },
  {
   "cell_type": "code",
   "execution_count": 19,
   "id": "8f4f36c0",
   "metadata": {},
   "outputs": [
    {
     "data": {
      "text/plain": [
       "CategoricalIndex([], categories=['cell type 1', 'cell type 2', 'cell type 3'], ordered=False, dtype='category', name='cell_type')"
      ]
     },
     "execution_count": 19,
     "metadata": {},
     "output_type": "execute_result"
    }
   ],
   "source": [
    "# skipped: cell types with only one batch or less than 10 cells to skip\n",
    "skipped = counts.index.difference(labels)\n",
    "skipped"
   ]
  },
  {
   "cell_type": "code",
   "execution_count": 20,
   "id": "cf851411",
   "metadata": {},
   "outputs": [
    {
     "name": "stdout",
     "output_type": "stream",
     "text": [
      "0 labels consist of a single batch or is too small (less than 10 cells). Skip.\n"
     ]
    }
   ],
   "source": [
    "print(f\"{len(skipped)} labels consist of a single batch or is too small (less than 10 cells). Skip.\")"
   ]
  },
  {
   "cell_type": "code",
   "execution_count": 21,
   "id": "f0d346e6",
   "metadata": {},
   "outputs": [
    {
     "data": {
      "text/plain": [
       "{'cluster': [], 'kBET': []}"
      ]
     },
     "execution_count": 21,
     "metadata": {},
     "output_type": "execute_result"
    }
   ],
   "source": [
    "# assign NaN to skipped cell types\n",
    "kBET_scores = {\n",
    "    \"cluster\": list(skipped),\n",
    "    \"kBET\": [np.nan] * len(skipped)\n",
    "}\n",
    "kBET_scores"
   ]
  },
  {
   "cell_type": "code",
   "execution_count": 22,
   "id": "0777c0d4",
   "metadata": {},
   "outputs": [
    {
     "data": {
      "text/plain": [
       "CategoricalIndex(['cell type 1', 'cell type 2', 'cell type 3'], categories=['cell type 1', 'cell type 2', 'cell type 3'], ordered=False, dtype='category', name='cell_type')"
      ]
     },
     "execution_count": 22,
     "metadata": {},
     "output_type": "execute_result"
    }
   ],
   "source": [
    "labels"
   ]
  },
  {
   "cell_type": "markdown",
   "id": "de7e2504",
   "metadata": {},
   "source": [
    "### cell type 1"
   ]
  },
  {
   "cell_type": "code",
   "execution_count": 23,
   "id": "3641ed44",
   "metadata": {},
   "outputs": [],
   "source": [
    "clus = \"cell type 1\""
   ]
  },
  {
   "cell_type": "code",
   "execution_count": 24,
   "id": "38b9ea0c",
   "metadata": {},
   "outputs": [
    {
     "name": "stdout",
     "output_type": "stream",
     "text": [
      "\n",
      "Processing cell type 1...\n"
     ]
    }
   ],
   "source": [
    "if verbose:\n",
    "    print(f\"\\nProcessing {clus}...\")"
   ]
  },
  {
   "cell_type": "code",
   "execution_count": 25,
   "id": "645bb2ff",
   "metadata": {},
   "outputs": [
    {
     "data": {
      "text/plain": [
       "'Sc_04 cell type 1'"
      ]
     },
     "execution_count": 25,
     "metadata": {},
     "output_type": "execute_result"
    }
   ],
   "source": [
    "sc_title = \"Sc_04 cell type 1\"\n",
    "sc_title"
   ]
  },
  {
   "cell_type": "code",
   "execution_count": 26,
   "id": "3c44913f",
   "metadata": {},
   "outputs": [
    {
     "data": {
      "text/plain": [
       "(str, '1/scib_kbet/')"
      ]
     },
     "execution_count": 26,
     "metadata": {},
     "output_type": "execute_result"
    }
   ],
   "source": [
    "sc_dir = \"1/scib_kbet/\"\n",
    "type(sc_dir), sc_dir"
   ]
  },
  {
   "cell_type": "code",
   "execution_count": 27,
   "id": "b246308c",
   "metadata": {},
   "outputs": [],
   "source": [
    "os.makedirs(sc_dir, exist_ok=True)"
   ]
  },
  {
   "cell_type": "code",
   "execution_count": 28,
   "id": "4512002d",
   "metadata": {},
   "outputs": [
    {
     "data": {
      "text/plain": [
       "AnnData object with n_obs × n_vars = 600 × 2000\n",
       "    obs: 'cell_id', 'batch', 'cell_type'\n",
       "    var: 'highly_variable'\n",
       "    uns: 'pca', 'neighbors', 'umap'\n",
       "    obsm: 'X_pca', 'X_umap'\n",
       "    varm: 'PCs'\n",
       "    obsp: 'distances', 'connectivities'"
      ]
     },
     "execution_count": 28,
     "metadata": {},
     "output_type": "execute_result"
    }
   ],
   "source": [
    "# get parts of adata object related only current cell type\n",
    "adata_sub = adata_tmp[adata_tmp.obs[label_key] == clus, :].copy()\n",
    "adata_sub"
   ]
  },
  {
   "cell_type": "code",
   "execution_count": 29,
   "id": "97cbc61f",
   "metadata": {},
   "outputs": [
    {
     "name": "stdout",
     "output_type": "stream",
     "text": [
      "Average number of cells per batch in cell type 1: 300.0\n"
     ]
    }
   ],
   "source": [
    "# mean: avg number of cells per batch in cell type\n",
    "mean = np.mean(adata_sub.obs[batch_key].value_counts())\n",
    "print(f\"Average number of cells per batch in {clus}:\", mean)"
   ]
  },
  {
   "cell_type": "code",
   "execution_count": 30,
   "id": "cd754f29",
   "metadata": {},
   "outputs": [
    {
     "data": {
      "text/plain": [
       "np.int64(75)"
      ]
     },
     "execution_count": 30,
     "metadata": {},
     "output_type": "execute_result"
    }
   ],
   "source": [
    "quarter_mean = np.floor(mean / 4).astype(\"int\")\n",
    "quarter_mean"
   ]
  },
  {
   "cell_type": "code",
   "execution_count": 31,
   "id": "0391b440",
   "metadata": {},
   "outputs": [
    {
     "name": "stdout",
     "output_type": "stream",
     "text": [
      "Using k0=70\n"
     ]
    }
   ],
   "source": [
    "k0 = np.min([70, np.max([10, quarter_mean])])\n",
    "print(f\"Using k0={k0}\")"
   ]
  },
  {
   "cell_type": "code",
   "execution_count": 32,
   "id": "e18c805d",
   "metadata": {},
   "outputs": [
    {
     "name": "stdout",
     "output_type": "stream",
     "text": [
      "Use 70 nearest neighbors.\n"
     ]
    }
   ],
   "source": [
    "# check k0 for reasonability\n",
    "if k0 * adata_sub.n_obs >= size_max:\n",
    "    print(\"Neighborhood size k0={k0} is not reasonable. Changin it\")\n",
    "    k0 = np.floor(size_max / adata_sub.n_obs).astype(\"int\")\n",
    "\n",
    "if verbose:\n",
    "    print(f\"Use {k0} nearest neighbors.\")"
   ]
  },
  {
   "cell_type": "code",
   "execution_count": 33,
   "id": "f9141f98",
   "metadata": {},
   "outputs": [
    {
     "data": {
      "text/plain": [
       "(600, 71)"
      ]
     },
     "execution_count": 33,
     "metadata": {},
     "output_type": "execute_result"
    }
   ],
   "source": [
    "matrix = np.zeros(shape=(adata_sub.n_obs, k0 + 1))\n",
    "matrix.shape"
   ]
  },
  {
   "cell_type": "code",
   "execution_count": 34,
   "id": "d3139be1",
   "metadata": {},
   "outputs": [
    {
     "data": {
      "text/plain": [
       "2"
      ]
     },
     "execution_count": 34,
     "metadata": {},
     "output_type": "execute_result"
    }
   ],
   "source": [
    "# n_comp: # strongly connected components\n",
    "# labs: np array that holds index of component each cell belong to\n",
    "n_comp, labs = scipy.sparse.csgraph.connected_components(\n",
    "    csgraph=adata_sub.obsp[\"connectivities\"],\n",
    "    connection=\"strong\"\n",
    ")\n",
    "n_comp"
   ]
  },
  {
   "cell_type": "code",
   "execution_count": 35,
   "id": "3ed96b57",
   "metadata": {},
   "outputs": [
    {
     "data": {
      "text/plain": [
       "array([0, 0, 0, 0, 0, 0, 0, 0, 0, 0, 0, 0, 0, 0, 0, 0, 0, 0, 0, 0, 0, 0,\n",
       "       0, 0, 0, 0, 0, 0, 0, 0, 0, 0, 0, 0, 0, 0, 0, 0, 0, 0, 0, 0, 0, 0,\n",
       "       0, 0, 0, 0, 0, 0, 0, 0, 0, 0, 0, 0, 0, 0, 0, 0, 0, 0, 0, 0, 0, 0,\n",
       "       0, 0, 0, 0, 0, 0, 0, 0, 0, 0, 0, 0, 0, 0, 0, 0, 0, 0, 0, 0, 0, 0,\n",
       "       0, 0, 0, 0, 0, 0, 0, 0, 0, 0, 0, 0, 0, 0, 0, 0, 0, 0, 0, 0, 0, 0,\n",
       "       0, 0, 0, 0, 0, 0, 0, 0, 0, 0, 0, 0, 0, 0, 0, 0, 0, 0, 0, 0, 0, 0,\n",
       "       0, 0, 0, 0, 0, 0, 0, 0, 0, 0, 0, 0, 0, 0, 0, 0, 0, 0, 0, 0, 0, 0,\n",
       "       0, 0, 0, 0, 0, 0, 0, 0, 0, 0, 0, 0, 0, 0, 0, 0, 0, 0, 0, 0, 0, 0,\n",
       "       0, 0, 0, 0, 0, 0, 0, 0, 0, 0, 0, 0, 0, 0, 0, 0, 0, 0, 0, 0, 0, 0,\n",
       "       0, 0, 0, 0, 0, 0, 0, 0, 0, 0, 0, 0, 0, 0, 0, 0, 0, 0, 0, 0, 0, 0,\n",
       "       0, 0, 0, 0, 0, 0, 0, 0, 0, 0, 0, 0, 0, 0, 0, 0, 0, 0, 0, 0, 0, 0,\n",
       "       0, 0, 0, 0, 0, 0, 0, 0, 0, 0, 0, 0, 0, 0, 0, 0, 0, 0, 0, 0, 0, 0,\n",
       "       0, 0, 0, 0, 0, 0, 0, 0, 0, 0, 0, 0, 0, 0, 0, 0, 0, 0, 0, 0, 0, 0,\n",
       "       0, 0, 0, 0, 0, 0, 0, 0, 0, 0, 0, 0, 0, 0, 0, 0, 0, 0, 0, 0, 0, 0,\n",
       "       0, 0, 0, 0, 0, 0, 0, 0, 0, 0, 0, 0, 0, 0, 0, 0, 0, 0, 0, 0, 0, 0,\n",
       "       0, 0, 0, 0, 0, 0, 0, 0, 0, 0, 0, 0, 0, 0, 0, 0, 0, 0, 0, 0, 0, 0,\n",
       "       0, 0, 0, 0, 0, 0, 0, 0, 0, 0, 0, 0, 0, 0, 0, 0, 0, 0, 0, 0, 0, 0,\n",
       "       0, 0, 0, 0, 0, 0, 0, 0, 0, 0, 0, 0, 0, 0, 0, 0, 0, 0, 0, 0, 0, 0,\n",
       "       0, 0, 0, 0, 0, 0, 0, 0, 0, 0, 0, 0, 0, 0, 0, 0, 0, 0, 0, 0, 0, 0,\n",
       "       0, 0, 0, 0, 0, 0, 0, 0, 0, 0, 0, 0, 0, 0, 0, 0, 0, 0, 0, 0, 0, 0,\n",
       "       0, 0, 0, 0, 0, 0, 0, 0, 0, 0, 0, 0, 0, 0, 0, 0, 0, 0, 0, 0, 0, 0,\n",
       "       0, 0, 0, 0, 0, 0, 0, 0, 0, 0, 0, 0, 0, 0, 0, 0, 0, 0, 1, 1, 1, 1,\n",
       "       1, 1, 1, 1, 1, 1, 1, 1, 1, 1, 1, 1, 1, 1, 1, 1, 1, 1, 1, 1, 1, 1,\n",
       "       1, 1, 1, 1, 1, 1, 1, 1, 1, 1, 1, 1, 1, 1, 1, 1, 1, 1, 1, 1, 1, 1,\n",
       "       1, 1, 1, 1, 1, 1, 1, 1, 1, 1, 1, 1, 1, 1, 1, 1, 1, 1, 1, 1, 1, 1,\n",
       "       1, 1, 1, 1, 1, 1, 1, 1, 1, 1, 1, 1, 1, 1, 1, 1, 1, 1, 1, 1, 1, 1,\n",
       "       1, 1, 1, 1, 1, 1, 1, 1, 1, 1, 1, 1, 1, 1, 1, 1, 1, 1, 1, 1, 1, 1,\n",
       "       1, 1, 1, 1, 1, 1], dtype=int32)"
      ]
     },
     "execution_count": 35,
     "metadata": {},
     "output_type": "execute_result"
    }
   ],
   "source": [
    "labs"
   ]
  },
  {
   "cell_type": "code",
   "execution_count": 36,
   "id": "efc19b66",
   "metadata": {},
   "outputs": [
    {
     "data": {
      "text/plain": [
       "Counter({np.int32(0): 480, np.int32(1): 120})"
      ]
     },
     "execution_count": 36,
     "metadata": {},
     "output_type": "execute_result"
    }
   ],
   "source": [
    "Counter(labs)"
   ]
  },
  {
   "cell_type": "code",
   "execution_count": 37,
   "id": "a82778de",
   "metadata": {},
   "outputs": [
    {
     "name": "stdout",
     "output_type": "stream",
     "text": [
      "There are 2 connected components (i.e., batches are not mixed).\n"
     ]
    }
   ],
   "source": [
    "if verbose:\n",
    "    print(f\"There are {n_comp} connected components (i.e., batches are not mixed).\")"
   ]
  },
  {
   "cell_type": "code",
   "execution_count": 38,
   "id": "0f8db27f",
   "metadata": {},
   "outputs": [
    {
     "name": "stderr",
     "output_type": "stream",
     "text": [
      "/tmp/ipykernel_214025/2789225632.py:2: FutureWarning: pandas.value_counts is deprecated and will be removed in a future version. Use pd.Series(obj).value_counts() instead.\n",
      "  comp_size = pd.value_counts(labs)\n"
     ]
    },
    {
     "data": {
      "text/plain": [
       "0    480\n",
       "1    120\n",
       "Name: count, dtype: int64"
      ]
     },
     "execution_count": 38,
     "metadata": {},
     "output_type": "execute_result"
    }
   ],
   "source": [
    "# get component sizes\n",
    "comp_size = pd.value_counts(labs)\n",
    "comp_size"
   ]
  },
  {
   "cell_type": "code",
   "execution_count": 39,
   "id": "d8aafb1c",
   "metadata": {},
   "outputs": [
    {
     "data": {
      "text/plain": [
       "np.int64(210)"
      ]
     },
     "execution_count": 39,
     "metadata": {},
     "output_type": "execute_result"
    }
   ],
   "source": [
    "# threshold\n",
    "comp_size_thresh = 3 * k0\n",
    "comp_size_thresh"
   ]
  },
  {
   "cell_type": "code",
   "execution_count": 40,
   "id": "f1d0de5d",
   "metadata": {},
   "outputs": [
    {
     "name": "stderr",
     "output_type": "stream",
     "text": [
      "/tmp/ipykernel_214025/2860136740.py:3: DeprecationWarning: `in1d` is deprecated. Use `np.isin` instead.\n",
      "  np.in1d(labs, comp_size[comp_size >= comp_size_thresh].index)\n"
     ]
    },
    {
     "data": {
      "text/plain": [
       "((480,),\n",
       " array([  0,   1,   2,   3,   4,   5,   6,   7,   8,   9,  10,  11,  12,\n",
       "         13,  14,  15,  16,  17,  18,  19,  20,  21,  22,  23,  24,  25,\n",
       "         26,  27,  28,  29,  30,  31,  32,  33,  34,  35,  36,  37,  38,\n",
       "         39,  40,  41,  42,  43,  44,  45,  46,  47,  48,  49,  50,  51,\n",
       "         52,  53,  54,  55,  56,  57,  58,  59,  60,  61,  62,  63,  64,\n",
       "         65,  66,  67,  68,  69,  70,  71,  72,  73,  74,  75,  76,  77,\n",
       "         78,  79,  80,  81,  82,  83,  84,  85,  86,  87,  88,  89,  90,\n",
       "         91,  92,  93,  94,  95,  96,  97,  98,  99, 100, 101, 102, 103,\n",
       "        104, 105, 106, 107, 108, 109, 110, 111, 112, 113, 114, 115, 116,\n",
       "        117, 118, 119, 120, 121, 122, 123, 124, 125, 126, 127, 128, 129,\n",
       "        130, 131, 132, 133, 134, 135, 136, 137, 138, 139, 140, 141, 142,\n",
       "        143, 144, 145, 146, 147, 148, 149, 150, 151, 152, 153, 154, 155,\n",
       "        156, 157, 158, 159, 160, 161, 162, 163, 164, 165, 166, 167, 168,\n",
       "        169, 170, 171, 172, 173, 174, 175, 176, 177, 178, 179, 180, 181,\n",
       "        182, 183, 184, 185, 186, 187, 188, 189, 190, 191, 192, 193, 194,\n",
       "        195, 196, 197, 198, 199, 200, 201, 202, 203, 204, 205, 206, 207,\n",
       "        208, 209, 210, 211, 212, 213, 214, 215, 216, 217, 218, 219, 220,\n",
       "        221, 222, 223, 224, 225, 226, 227, 228, 229, 230, 231, 232, 233,\n",
       "        234, 235, 236, 237, 238, 239, 240, 241, 242, 243, 244, 245, 246,\n",
       "        247, 248, 249, 250, 251, 252, 253, 254, 255, 256, 257, 258, 259,\n",
       "        260, 261, 262, 263, 264, 265, 266, 267, 268, 269, 270, 271, 272,\n",
       "        273, 274, 275, 276, 277, 278, 279, 280, 281, 282, 283, 284, 285,\n",
       "        286, 287, 288, 289, 290, 291, 292, 293, 294, 295, 296, 297, 298,\n",
       "        299, 300, 301, 302, 303, 304, 305, 306, 307, 308, 309, 310, 311,\n",
       "        312, 313, 314, 315, 316, 317, 318, 319, 320, 321, 322, 323, 324,\n",
       "        325, 326, 327, 328, 329, 330, 331, 332, 333, 334, 335, 336, 337,\n",
       "        338, 339, 340, 341, 342, 343, 344, 345, 346, 347, 348, 349, 350,\n",
       "        351, 352, 353, 354, 355, 356, 357, 358, 359, 360, 361, 362, 363,\n",
       "        364, 365, 366, 367, 368, 369, 370, 371, 372, 373, 374, 375, 376,\n",
       "        377, 378, 379, 380, 381, 382, 383, 384, 385, 386, 387, 388, 389,\n",
       "        390, 391, 392, 393, 394, 395, 396, 397, 398, 399, 400, 401, 402,\n",
       "        403, 404, 405, 406, 407, 408, 409, 410, 411, 412, 413, 414, 415,\n",
       "        416, 417, 418, 419, 420, 421, 422, 423, 424, 425, 426, 427, 428,\n",
       "        429, 430, 431, 432, 433, 434, 435, 436, 437, 438, 439, 440, 441,\n",
       "        442, 443, 444, 445, 446, 447, 448, 449, 450, 451, 452, 453, 454,\n",
       "        455, 456, 457, 458, 459, 460, 461, 462, 463, 464, 465, 466, 467,\n",
       "        468, 469, 470, 471, 472, 473, 474, 475, 476, 477, 478, 479]))"
      ]
     },
     "execution_count": 40,
     "metadata": {},
     "output_type": "execute_result"
    }
   ],
   "source": [
    "# check which components are smaller than threshold\n",
    "idx_nonan = np.flatnonzero(\n",
    "    np.in1d(labs, comp_size[comp_size >= comp_size_thresh].index)\n",
    ")\n",
    "idx_nonan.shape, idx_nonan"
   ]
  },
  {
   "cell_type": "code",
   "execution_count": 41,
   "id": "d8968a3e",
   "metadata": {},
   "outputs": [
    {
     "data": {
      "text/plain": [
       "(480, 600)"
      ]
     },
     "execution_count": 41,
     "metadata": {},
     "output_type": "execute_result"
    }
   ],
   "source": [
    "len(idx_nonan), len(labs)"
   ]
  },
  {
   "cell_type": "code",
   "execution_count": 42,
   "id": "b59e5cc4",
   "metadata": {},
   "outputs": [
    {
     "name": "stdout",
     "output_type": "stream",
     "text": [
      "480 cells are in components of size >= 3*k0.\n",
      "120 cells are in components of size < 3*k0 and will be ignored.\n"
     ]
    }
   ],
   "source": [
    "print(f\"{len(idx_nonan)} cells are in components of size >= 3*k0.\")\n",
    "print(f\"{len(labs) - len(idx_nonan)} cells are in components of size < 3*k0 and will be ignored.\")"
   ]
  },
  {
   "cell_type": "code",
   "execution_count": 43,
   "id": "362ea92b",
   "metadata": {},
   "outputs": [
    {
     "data": {
      "text/plain": [
       "0.8"
      ]
     },
     "execution_count": 43,
     "metadata": {},
     "output_type": "execute_result"
    }
   ],
   "source": [
    "len(idx_nonan) / len(labs)"
   ]
  },
  {
   "cell_type": "code",
   "execution_count": 44,
   "id": "dc35e881",
   "metadata": {},
   "outputs": [],
   "source": [
    "# run kBET only if at least 75% of cells (in current cell type) are in components of size >= 3*k0\n",
    "if len(idx_nonan) / len(labs) < 0.75:\n",
    "    score = 1   # 100% rejection rate"
   ]
  },
  {
   "cell_type": "code",
   "execution_count": 45,
   "id": "04afdd46",
   "metadata": {},
   "outputs": [
    {
     "data": {
      "text/plain": [
       "AnnData object with n_obs × n_vars = 480 × 2000\n",
       "    obs: 'cell_id', 'batch', 'cell_type'\n",
       "    var: 'highly_variable'\n",
       "    uns: 'pca', 'neighbors', 'umap'\n",
       "    obsm: 'X_pca', 'X_umap'\n",
       "    varm: 'PCs'\n",
       "    obsp: 'distances', 'connectivities'"
      ]
     },
     "execution_count": 45,
     "metadata": {},
     "output_type": "execute_result"
    }
   ],
   "source": [
    "# get part of adata object related to the cells in these valid components\n",
    "adata_sub_sub = adata_sub[idx_nonan, :].copy()\n",
    "adata_sub_sub   # only component 0 is selected"
   ]
  },
  {
   "cell_type": "code",
   "execution_count": 46,
   "id": "139c747c",
   "metadata": {},
   "outputs": [
    {
     "data": {
      "text/plain": [
       "((600, 70),\n",
       " array([[6.08931954e-310, 5.13958606e-310, 5.13959039e-310, ...,\n",
       "         3.03101420e+000, 3.06540394e+000, 3.06568575e+000],\n",
       "        [3.07262087e+000, 3.07597089e+000, 3.07689834e+000, ...,\n",
       "         3.61631083e+000, 3.62086511e+000, 3.62399912e+000],\n",
       "        [3.62826157e+000, 3.62884283e+000, 3.63332891e+000, ...,\n",
       "         2.94693494e+000, 2.96366310e+000, 2.98333788e+000],\n",
       "        ...,\n",
       "        [1.08433985e-311, 1.08858384e-311, 1.09282783e-311, ...,\n",
       "         1.18592059e-318, 6.08931954e-310, 6.08931954e-310],\n",
       "        [5.13958627e-310, 5.13958627e-310, 8.40898387e-021, ...,\n",
       "         2.76268683e-033, 1.09957686e-015, 2.86786176e-014],\n",
       "        [3.24453177e-012, 5.63514328e-020, 1.70054082e-030, ...,\n",
       "         1.51329447e-014, 1.22648827e-023, 1.86408997e-023]]))"
      ]
     },
     "execution_count": 46,
     "metadata": {},
     "output_type": "execute_result"
    }
   ],
   "source": [
    "nn_index_tmp = np.empty(shape=(adata_sub.n_obs, k0))\n",
    "nn_index_tmp.shape, nn_index_tmp"
   ]
  },
  {
   "cell_type": "code",
   "execution_count": 47,
   "id": "3647f1a8",
   "metadata": {},
   "outputs": [
    {
     "data": {
      "text/plain": [
       "array([[nan, nan, nan, ..., nan, nan, nan],\n",
       "       [nan, nan, nan, ..., nan, nan, nan],\n",
       "       [nan, nan, nan, ..., nan, nan, nan],\n",
       "       ...,\n",
       "       [nan, nan, nan, ..., nan, nan, nan],\n",
       "       [nan, nan, nan, ..., nan, nan, nan],\n",
       "       [nan, nan, nan, ..., nan, nan, nan]])"
      ]
     },
     "execution_count": 47,
     "metadata": {},
     "output_type": "execute_result"
    }
   ],
   "source": [
    "nn_index_tmp[:] = np.nan\n",
    "nn_index_tmp"
   ]
  },
  {
   "cell_type": "code",
   "execution_count": 48,
   "id": "f1790f8f",
   "metadata": {},
   "outputs": [
    {
     "data": {
      "text/plain": [
       "array([[298.,  16., 442., ..., 182.,  94., 377.],\n",
       "       [347., 407.,  18., ..., 183., 368., 101.],\n",
       "       [410.,  30., 323., ..., 244., 186., 138.],\n",
       "       ...,\n",
       "       [ nan,  nan,  nan, ...,  nan,  nan,  nan],\n",
       "       [ nan,  nan,  nan, ...,  nan,  nan,  nan],\n",
       "       [ nan,  nan,  nan, ...,  nan,  nan,  nan]])"
      ]
     },
     "execution_count": 48,
     "metadata": {},
     "output_type": "execute_result"
    }
   ],
   "source": [
    "nn_index_tmp[idx_nonan] = diffusion_nn(adata_sub_sub, k=k0).astype(\"float\")\n",
    "nn_index_tmp"
   ]
  },
  {
   "cell_type": "code",
   "execution_count": 49,
   "id": "aeecdf9c",
   "metadata": {},
   "outputs": [
    {
     "name": "stdout",
     "output_type": "stream",
     "text": [
      "Indices of nan rows:\n"
     ]
    },
    {
     "data": {
      "text/plain": [
       "array([480, 481, 482, 483, 484, 485, 486, 487, 488, 489, 490, 491, 492,\n",
       "       493, 494, 495, 496, 497, 498, 499, 500, 501, 502, 503, 504, 505,\n",
       "       506, 507, 508, 509, 510, 511, 512, 513, 514, 515, 516, 517, 518,\n",
       "       519, 520, 521, 522, 523, 524, 525, 526, 527, 528, 529, 530, 531,\n",
       "       532, 533, 534, 535, 536, 537, 538, 539, 540, 541, 542, 543, 544,\n",
       "       545, 546, 547, 548, 549, 550, 551, 552, 553, 554, 555, 556, 557,\n",
       "       558, 559, 560, 561, 562, 563, 564, 565, 566, 567, 568, 569, 570,\n",
       "       571, 572, 573, 574, 575, 576, 577, 578, 579, 580, 581, 582, 583,\n",
       "       584, 585, 586, 587, 588, 589, 590, 591, 592, 593, 594, 595, 596,\n",
       "       597, 598, 599])"
      ]
     },
     "execution_count": 49,
     "metadata": {},
     "output_type": "execute_result"
    }
   ],
   "source": [
    "print(\"Indices of nan rows:\")\n",
    "idx_all_nan = np.where(np.all(np.isnan(nn_index_tmp), axis=1))[0]\n",
    "idx_all_nan"
   ]
  },
  {
   "cell_type": "code",
   "execution_count": 50,
   "id": "45ca6964",
   "metadata": {},
   "outputs": [
    {
     "data": {
      "text/plain": [
       "(600, 71)"
      ]
     },
     "execution_count": 50,
     "metadata": {},
     "output_type": "execute_result"
    }
   ],
   "source": [
    "matrix.shape"
   ]
  },
  {
   "cell_type": "code",
   "execution_count": 51,
   "id": "98a8a322",
   "metadata": {},
   "outputs": [
    {
     "data": {
      "text/plain": [
       "cell_id\n",
       "cell_0      batch 1\n",
       "cell_1      batch 1\n",
       "cell_2      batch 1\n",
       "cell_3      batch 1\n",
       "cell_4      batch 1\n",
       "             ...   \n",
       "cell_595    batch 2\n",
       "cell_596    batch 2\n",
       "cell_597    batch 2\n",
       "cell_598    batch 2\n",
       "cell_599    batch 2\n",
       "Name: batch, Length: 600, dtype: category\n",
       "Categories (2, object): ['batch 1', 'batch 2']"
      ]
     },
     "execution_count": 51,
     "metadata": {},
     "output_type": "execute_result"
    }
   ],
   "source": [
    "batch = adata_sub.obs[batch_key]\n",
    "batch"
   ]
  },
  {
   "cell_type": "code",
   "execution_count": 52,
   "id": "ad06e390",
   "metadata": {},
   "outputs": [
    {
     "data": {
      "text/plain": [
       "Counter({'batch 1': 480, 'batch 2': 120})"
      ]
     },
     "execution_count": 52,
     "metadata": {},
     "output_type": "execute_result"
    }
   ],
   "source": [
    "Counter(batch)"
   ]
  },
  {
   "cell_type": "code",
   "execution_count": 53,
   "id": "70cd8aa2",
   "metadata": {},
   "outputs": [
    {
     "data": {
      "text/plain": [
       "'1/scib_kbet/'"
      ]
     },
     "execution_count": 53,
     "metadata": {},
     "output_type": "execute_result"
    }
   ],
   "source": [
    "sc_dir"
   ]
  },
  {
   "cell_type": "code",
   "execution_count": 54,
   "id": "0d91fce2",
   "metadata": {},
   "outputs": [
    {
     "name": "stdout",
     "output_type": "stream",
     "text": [
      "Number of kBET tests is set to 60.\n"
     ]
    },
    {
     "name": "stderr",
     "output_type": "stream",
     "text": [
      "/tmp/ipykernel_214025/1576687197.py:30: DeprecationWarning: The global conversion available with activate() is deprecated and will be removed in the next major release. Use a local converter.\n",
      "  anndata2ri.activate()\n"
     ]
    },
    {
     "data": {
      "text/plain": [
       "np.float64(1.0)"
      ]
     },
     "execution_count": 54,
     "metadata": {},
     "output_type": "execute_result"
    }
   ],
   "source": [
    "# call kBET\n",
    "score = kBET_single(\n",
    "    matrix=matrix,\n",
    "    batch=batch, # send batch labels of all cells in current cell type\n",
    "    knn=nn_index_tmp + 1,  # nn_index in python is 0-based and 1-based in R\n",
    "    verbose=verbose,\n",
    "    k0=k0\n",
    ")\n",
    "\n",
    "score"
   ]
  },
  {
   "cell_type": "code",
   "execution_count": 55,
   "id": "15b57b0d",
   "metadata": {},
   "outputs": [
    {
     "name": "stderr",
     "output_type": "stream",
     "text": [
      "R[write to console]: Keep up to date with changes at https://tidyverse.org/blog/\n",
      "\n"
     ]
    },
    {
     "name": "stdout",
     "output_type": "stream",
     "text": [
      "Number of kBET tests is set to 60.\n"
     ]
    },
    {
     "name": "stderr",
     "output_type": "stream",
     "text": [
      "/tmp/ipykernel_214025/964324826.py:31: DeprecationWarning: The global conversion available with activate() is deprecated and will be removed in the next major release. Use a local converter.\n",
      "  anndata2ri.activate()\n"
     ]
    },
    {
     "data": {
      "text/plain": [
       "np.float64(1.0)"
      ]
     },
     "execution_count": 55,
     "metadata": {},
     "output_type": "execute_result"
    }
   ],
   "source": [
    "# call kBET\n",
    "score = kBET_single_with_plot(\n",
    "    matrix=matrix,\n",
    "    batch=batch, # send batch labels of all cells in current cell type\n",
    "    knn=nn_index_tmp + 1,  # nn_index in python is 0-based and 1-based in R\n",
    "    verbose=verbose,\n",
    "    k0=k0,\n",
    "    scenario=sc_title,\n",
    "    sc_dir=sc_dir\n",
    ")\n",
    "\n",
    "score"
   ]
  },
  {
   "cell_type": "code",
   "execution_count": 89,
   "id": "09506e7c",
   "metadata": {},
   "outputs": [
    {
     "name": "stdout",
     "output_type": "stream",
     "text": [
      "End of the notebook\n"
     ]
    }
   ],
   "source": [
    "print(\"End of the notebook\")"
   ]
  },
  {
   "cell_type": "code",
   "execution_count": null,
   "id": "ca887bc1",
   "metadata": {},
   "outputs": [],
   "source": []
  }
 ],
 "metadata": {
  "kernelspec": {
   "display_name": "metric-dev",
   "language": "python",
   "name": "python3"
  },
  "language_info": {
   "codemirror_mode": {
    "name": "ipython",
    "version": 3
   },
   "file_extension": ".py",
   "mimetype": "text/x-python",
   "name": "python",
   "nbconvert_exporter": "python",
   "pygments_lexer": "ipython3",
   "version": "3.11.11"
  }
 },
 "nbformat": 4,
 "nbformat_minor": 5
}
